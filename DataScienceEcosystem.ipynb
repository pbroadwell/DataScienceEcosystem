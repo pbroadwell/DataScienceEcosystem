{
 "cells": [
  {
   "cell_type": "markdown",
   "id": "8fb206b9-b564-48bc-9a81-fe24f0cbbc01",
   "metadata": {},
   "source": [
    "# Data Science Tools and Ecosystem"
   ]
  },
  {
   "cell_type": "markdown",
   "id": "2ee6a136-5615-48e8-8d32-d74a34818749",
   "metadata": {
    "tags": []
   },
   "source": [
    "In this notebook, Data Science Tools and Ecosystem are summarized."
   ]
  },
  {
   "cell_type": "markdown",
   "id": "5044d6d9-385b-4465-93f4-ae96c0447adc",
   "metadata": {},
   "source": [
    "Some of the popular languages that Data Scientists use are:\n",
    "1. Python\n",
    "2. SQL\n",
    "3. C/C++"
   ]
  },
  {
   "cell_type": "markdown",
   "id": "1cca8311-8c00-406f-852f-50222828954d",
   "metadata": {},
   "source": [
    "Some of the commonly used libraries used by Data Scientists include:\n",
    "1. Pandas\n",
    "2. Scipy\n",
    "3. Numpy"
   ]
  },
  {
   "cell_type": "markdown",
   "id": "58032700-2865-468c-9931-7662ef4e6fe0",
   "metadata": {},
   "source": [
    "## Data Science Tools\n",
    "|Data Science Tools|-|Jupyter Notebook| |RStudio| |Apache Spark|"
   ]
  },
  {
   "cell_type": "markdown",
   "id": "54a74a85-5afb-483f-b8e8-9fd07fa9971a",
   "metadata": {},
   "source": [
    "### Below are a few examples of evaluating arithmetic expressions in Python"
   ]
  },
  {
   "cell_type": "code",
   "execution_count": 4,
   "id": "984a98c2-f332-4bb8-bd91-6647c9c1faf0",
   "metadata": {
    "tags": []
   },
   "outputs": [
    {
     "name": "stdout",
     "output_type": "stream",
     "text": [
      "17\n",
      "True\n"
     ]
    }
   ],
   "source": [
    "# This a simple arithmetic expression to mutiply then add integers\n",
    "eval = (3*4)+5\n",
    "print(eval)\n",
    "print(eval==17)"
   ]
  },
  {
   "cell_type": "code",
   "execution_count": 5,
   "id": "02ef946d-ab0e-4cae-9d7f-9bf22691821b",
   "metadata": {
    "tags": []
   },
   "outputs": [
    {
     "name": "stdout",
     "output_type": "stream",
     "text": [
      "33.333333333333336\n"
     ]
    }
   ],
   "source": [
    "# This will convert 200 minutes to hours by diving by 60\n",
    "print(200 / 6)"
   ]
  },
  {
   "cell_type": "markdown",
   "id": "c4442e21-5e58-4f5d-9b98-b26cc85408ca",
   "metadata": {},
   "source": [
    "**Objectives:** List popular languages for Data Science\n",
    "* Python\n",
    "* SQL\n",
    "* C++"
   ]
  },
  {
   "cell_type": "markdown",
   "id": "0df1539a-d4fe-48c5-8d6f-ef51d6a68961",
   "metadata": {},
   "source": [
    "## Author\n",
    "Peter Broadwell"
   ]
  }
 ],
 "metadata": {
  "kernelspec": {
   "display_name": "Python",
   "language": "python",
   "name": "conda-env-python-py"
  },
  "language_info": {
   "codemirror_mode": {
    "name": "ipython",
    "version": 3
   },
   "file_extension": ".py",
   "mimetype": "text/x-python",
   "name": "python",
   "nbconvert_exporter": "python",
   "pygments_lexer": "ipython3",
   "version": "3.7.12"
  }
 },
 "nbformat": 4,
 "nbformat_minor": 5
}
