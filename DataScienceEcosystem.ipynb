{
 "cells": [
  {
   "cell_type": "markdown",
   "id": "782c8f8c-d8f7-4a5e-8cff-5b55df17260d",
   "metadata": {},
   "source": [
    "# Data Science Tools and Ecosystem"
   ]
  },
  {
   "cell_type": "markdown",
   "id": "80ba9a45-50f7-425a-962a-a4632402aaa4",
   "metadata": {},
   "source": [
    "In this notebook, Data Science Tools and Ecosystem are summarized."
   ]
  },
  {
   "cell_type": "markdown",
   "id": "6da0ad2a-30b3-4415-bb4a-cafaa39632d1",
   "metadata": {},
   "source": [
    "Some of the popular languages that Data Scientists use are:\n",
    "1. Python\n",
    "2. R\n",
    "3. SQL"
   ]
  },
  {
   "cell_type": "markdown",
   "id": "b750336e-e684-417f-9805-4b67b929958c",
   "metadata": {
    "tags": []
   },
   "source": [
    "Some of the commonly used libraries used by Data Scientists include:\n",
    "\n",
    "    1. Pandas\n",
    "    2. SciPy\n",
    "    3. Numpy"
   ]
  },
  {
   "cell_type": "markdown",
   "id": "0229a3cf-455c-4b06-9a7a-e9454b81b9ab",
   "metadata": {},
   "source": [
    "## Data Science Tools\n",
    "|Data Science Tools|-|Jupyter Notebook| |RStudio| |Apache Spark|"
   ]
  },
  {
   "cell_type": "markdown",
   "id": "6c6789c3-6e05-4eba-8bef-3b95c8341f09",
   "metadata": {
    "tags": []
   },
   "source": [
    "### Below are a few examples of evaluating arithmetic expressions in Python"
   ]
  },
  {
   "cell_type": "code",
   "execution_count": 2,
   "id": "e95cc6ab-7625-49be-bca5-d9c85767e46c",
   "metadata": {
    "tags": []
   },
   "outputs": [
    {
     "name": "stdout",
     "output_type": "stream",
     "text": [
      "17\n",
      "True\n"
     ]
    }
   ],
   "source": [
    "# This a simple arithmetic expression to mutiply then add integers\n",
    "eval = (3*4)+5\n",
    "print(eval)\n",
    "print(eval==17)"
   ]
  },
  {
   "cell_type": "code",
   "execution_count": 5,
   "id": "fa19b977-9579-4dd1-b4de-2b1aa2b903f2",
   "metadata": {
    "tags": []
   },
   "outputs": [
    {
     "name": "stdout",
     "output_type": "stream",
     "text": [
      "33.333333333333336\n"
     ]
    }
   ],
   "source": [
    "# This will convert 200 minutes to hours by diving by 60\n",
    "print(200 / 6)"
   ]
  },
  {
   "cell_type": "markdown",
   "id": "ec0202ac-207d-4d05-92df-fc2657144659",
   "metadata": {},
   "source": [
    "Objectives: List popular languages for Data Science\n",
    "<ul>\n",
    "    <li>Python</li>\n",
    "    <li>SQL</li>\n",
    "    <li>Java</li>\n",
    "    </ul>"
   ]
  },
  {
   "cell_type": "markdown",
   "id": "f9b9b0cc-df01-4da7-b5eb-9abcb67ab0e7",
   "metadata": {},
   "source": [
    "## Author\n",
    "Peter Broadwell"
   ]
  }
 ],
 "metadata": {
  "kernelspec": {
   "display_name": "Python",
   "language": "python",
   "name": "conda-env-python-py"
  },
  "language_info": {
   "codemirror_mode": {
    "name": "ipython",
    "version": 3
   },
   "file_extension": ".py",
   "mimetype": "text/x-python",
   "name": "python",
   "nbconvert_exporter": "python",
   "pygments_lexer": "ipython3",
   "version": "3.7.12"
  }
 },
 "nbformat": 4,
 "nbformat_minor": 5
}
